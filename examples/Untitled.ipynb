{
 "cells": [
  {
   "cell_type": "code",
   "execution_count": 1,
   "id": "7eb8d794-e559-40a5-9659-3e043b890251",
   "metadata": {},
   "outputs": [
    {
     "name": "stderr",
     "output_type": "stream",
     "text": [
      "\u001b[33m\u001b[1m┌ \u001b[22m\u001b[39m\u001b[33m\u001b[1mWarning: \u001b[22m\u001b[39mReplacing docs for `Main.DiscStochSim.FindLowestValuesPercent :: Union{Tuple{T}, Tuple{Vector{T}, Number}} where T` in module `Main.DiscStochSim`\n",
      "\u001b[33m\u001b[1m└ \u001b[22m\u001b[39m\u001b[90m@ Base.Docs docs/Docs.jl:243\u001b[39m\n"
     ]
    }
   ],
   "source": [
    "load_packages = begin\n",
    "\tusing Expokit, PROPACK, Arpack, SparseArrays\n",
    "\tusing ProgressMeter, JLD, Plots\n",
    "    ProgressMeter.ijulia_behavior(:clear)\n",
    "\tusing Catalyst, JumpProcesses, StatsBase, DifferentialEquations\n",
    "\tusing Interpolations\n",
    "\tusing Revise\n",
    "\tlocal_mod = include(\"../src/DiscStochSim.jl\")\n",
    "\tusing .local_mod.DiscStochSim\n",
    "end"
   ]
  },
  {
   "cell_type": "code",
   "execution_count": 2,
   "id": "e6d2cbcc-d074-49b6-b14e-caf67e1dfb93",
   "metadata": {},
   "outputs": [],
   "source": [
    "rn = @reaction_network begin\n",
    "    k₁, X --> 2X\n",
    "    k₂, X + Y --> 2Y\n",
    "    k₃, Y --> 0\n",
    "end\n",
    "model = DiscreteStochasticSystem(rn);"
   ]
  },
  {
   "cell_type": "code",
   "execution_count": 3,
   "id": "f1759d9f-4af5-4491-8a72-f255a0c8e335",
   "metadata": {},
   "outputs": [
    {
     "data": {
      "text/plain": [
       "0.0:0.005:30.0"
      ]
     },
     "execution_count": 3,
     "metadata": {},
     "output_type": "execute_result"
    }
   ],
   "source": [
    "def_params = begin\n",
    "\t# reaction rates \n",
    "\trates = [1.0, 0.005, 0.6]\n",
    "\t# boundary \n",
    "\tbounds = (0, 500) #(lower limit, upper limit)\n",
    "\tboundary_condition(x) = RectLatticeBoundaryCondition(x, bounds);\n",
    "\t# time interval and initial values\n",
    "\tδt = 0.005\n",
    "\tT = 0:δt:30\n",
    "end"
   ]
  },
  {
   "cell_type": "code",
   "execution_count": 4,
   "id": "7cb7f31f-6157-409d-a057-3946bd008d08",
   "metadata": {},
   "outputs": [],
   "source": [
    "init_fsp_vars = begin\n",
    "\tglobal U₀ = CartesianIndex(50, 100)\n",
    "\tglobal 𝒮₀ = Set([U₀])\n",
    "\tglobal 𝒮₀ = expand!(𝒮₀, model, rates, 0.0, boundary_condition, 1);\n",
    "\t# initial probability vector (only for active states)\n",
    "\tglobal p₀ = zeros(𝒮₀ |> length)\n",
    "\tglobal p₀[FindElement(U₀, 𝒮₀)] = 1\n",
    "end;"
   ]
  },
  {
   "cell_type": "code",
   "execution_count": 5,
   "id": "499db620-94d6-414c-938d-be61b23be142",
   "metadata": {},
   "outputs": [
    {
     "ename": "LoadError",
     "evalue": "UndefVarError: `X` not defined in `Main`\nSuggestion: check for spelling errors or missing imports.",
     "output_type": "error",
     "traceback": [
      "UndefVarError: `X` not defined in `Main`\nSuggestion: check for spelling errors or missing imports.",
      "",
      "Stacktrace:",
      " [1] top-level scope",
      "   @ In[5]:2"
     ]
    }
   ],
   "source": [
    "# initial probability vector (only for active states)\n",
    "p₀ = zeros(X |> length)\n",
    "p₀[DiscreteStochasticSimulation.FindElement(U₀, X)] = 1\n",
    "\n",
    "global iter = 1\n",
    "global pₜ = p₀\n",
    "global sz = 0\n",
    "global m =[]\n",
    "# time intrerval \n",
    "sol = Array{SparseMatrixCSC,1}(undef, length(T))\n",
    "global p = Progress(length(T))\n",
    "\n",
    "for t ∈ T\n",
    "    \n",
    "    #expand space and assemble matrix\n",
    "    global X, pₜ = Expand!(X, pₜ, model, rates , t, boundary_condition, 5)\n",
    "\n",
    "    sz = length(X)\n",
    "    A = MasterEquation(X, model, rates, boundary_condition, t)\n",
    "     \n",
    "    # solve system and normalize (using expokit (can also use numerical time steppers such as Runge-Kutta))\n",
    "    global pₜ = expmv(δt, A, pₜ)\n",
    "    \n",
    "    # add add states in sparse arrays \n",
    "    I = [a[1] for a in X] \n",
    "    J = [a[2] for a in X] \n",
    "    sol[iter] = sparse(I, J, pₜ)\n",
    "    \n",
    "    # purge lowest 3% probability states (most will be zero; this is arbitrary as of now)\n",
    "    X, pₜ = Purge!(X, pₜ, 3.0)\n",
    "    push!(m, 1.0 - sum(pₜ))\n",
    "    pₜ ./= sum(pₜ) # re-normalize the reduced state space\n",
    "  \n",
    "    # sparse matrix \n",
    "    iter+=1\n",
    "    \n",
    "    # comment following line if not using progress meter\n",
    "    next!(p; showvalues = [\n",
    "                           (\"time (t)\", t),\n",
    "                           (\"system size\",sz),\n",
    "                           (\" \", \" \"), \n",
    "                           (\"system size (after purge)\",length(pₜ)),\n",
    "                           (\"num pruned states\", sz-length(pₜ)),\n",
    "                           (\"pruned mass\", m[end])])\n",
    "end"
   ]
  },
  {
   "cell_type": "code",
   "execution_count": null,
   "id": "203dc888-89e0-48aa-a483-509479d365d9",
   "metadata": {},
   "outputs": [],
   "source": []
  }
 ],
 "metadata": {
  "kernelspec": {
   "display_name": "Julia 1.11.3",
   "language": "julia",
   "name": "julia-1.11"
  },
  "language_info": {
   "file_extension": ".jl",
   "mimetype": "application/julia",
   "name": "julia",
   "version": "1.11.3"
  }
 },
 "nbformat": 4,
 "nbformat_minor": 5
}
